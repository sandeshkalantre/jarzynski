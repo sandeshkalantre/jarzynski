{
 "cells": [
  {
   "cell_type": "markdown",
   "metadata": {},
   "source": [
    "# Simulations on Harmonic Oscillator Model\n",
    "We present results on Jarzynski's equality based on the toy model desribed in https://link.aps.org/doi/10.1103/PhysRevE.56.5018.\n",
    "\n",
    "Consider a harmonic oscillator Hamiltonian characterised by parameter $\\omega_\\lambda$. (Mass $m$ is set to 1.)\n",
    "$$ H_\\lambda = \\frac{p^2}{2} + \\omega_\\lambda^2\\frac{x^2}{2} $$\n",
    "\n",
    "Hamilton equations are given as:\n",
    "\\begin{align*}\n",
    "\\dot{x} &= \\frac{\\partial H}{\\partial p} = p \\\\\n",
    "\\dot{p} &= -\\frac{\\partial H}{\\partial x} = -\\omega_\\lambda^2 x \\\\\n",
    "\\end{align*}\n",
    "\n",
    "## Isolated Oscillator\n",
    "The oscillator is assumed to be isolated from the environment. The frequency $\\omega_\\lambda$ is switched from $\\omega_0$ to $\\omega_1$ in time $t_s$. Initial values of $(x,p)$ are samples from a canonical distribution at temperature $\\beta$, $f(x,p) = \\frac{\\beta \\omega_0}{2 \\pi} \\exp\\left( \\beta(\\frac{p^2}{2} + \\omega_\\lambda^2\\frac{x^2}{2}) \\right)$. $N$ independent evolutions are carried out and the work $W_i$ is calculated as $ W_i = \\Delta H$ between $t=0$ and $t=t_s$.\n",
    "\n",
    "We calculate the ensemble average of the work in two ways:\n",
    "\\begin{align*}\n",
    "W^a &= \\frac{1}{N} \\sum W_i \\\\\n",
    "W^x &= -\\beta \\log\\left(\\frac{1}{N} \\sum \\exp \\left( -\\beta W_i \\right) \\right)\n",
    "\\end{align*}"
   ]
  },
  {
   "cell_type": "code",
   "execution_count": 2,
   "metadata": {
    "collapsed": true
   },
   "outputs": [],
   "source": [
    "import numpy as np\n",
    "import matplotlib.pyplot as plt\n",
    "%matplotlib inline\n",
    "import scipy.integrate"
   ]
  },
  {
   "cell_type": "code",
   "execution_count": 14,
   "metadata": {},
   "outputs": [],
   "source": [
    "beta = 1.0\n",
    "omega_0 = 1.0\n",
    "omega_1 = 2.0\n",
    "t_s = 10\n",
    "\n",
    "# omega_t is switched as a linear function of time\n",
    "def omega_t(t,omega_0 = omega_0,omega_1 = omega_1,t_s = t_s):\n",
    "    return omega_0 + (omega_1 - omega_0)*(t/t_s)\n",
    "\n",
    "# y is defined as [x,p]\n",
    "def dy_dt(y,t):\n",
    "    dx_dt = y[1]\n",
    "    dp_dt = -omega_t(t)**2 * y[0]\n",
    "    return np.array([dx_dt,dp_dt])\n",
    "\n",
    "# the initial condition is sampled from a canonical distribution\n",
    "def get_y0(omega_0=omega_0,beta=beta):\n",
    "    sigma_p = 1/np.sqrt(beta)\n",
    "    sigma_x = 1.0/(omega_0*np.sqrt(beta))\n",
    "    x = np.random.normal(scale=sigma_x)\n",
    "    p = np.random.normal(scale=sigma_p)\n",
    "    return np.array([x,p])\n",
    "\n",
    "y0 = get_y0()\n",
    "N_t = 100\n",
    "t = np.linspace(0,t_s,N_t)\n",
    "res = scipy.integrate.odeint(dy_dt,y0,t)"
   ]
  },
  {
   "cell_type": "code",
   "execution_count": 15,
   "metadata": {},
   "outputs": [
    {
     "data": {
      "text/plain": [
       "<matplotlib.text.Text at 0x106329518>"
      ]
     },
     "execution_count": 15,
     "metadata": {},
     "output_type": "execute_result"
    },
    {
     "data": {
      "image/png": "[encoded data removed]",
      "text/plain": [
       "<matplotlib.figure.Figure at 0x1063324a8>"
      ]
     },
     "metadata": {},
     "output_type": "display_data"
    }
   ],
   "source": [
    "plt.plot(t,res[:,0],label='x')\n",
    "plt.plot(t,res[:,1],label='p')\n",
    "plt.legend(loc='best')\n",
    "plt.xlabel('t')"
   ]
  },
  {
   "cell_type": "code",
   "execution_count": 16,
   "metadata": {},
   "outputs": [
    {
     "name": "stdout",
     "output_type": "stream",
     "text": [
      "Work done 1.93933042538\n"
     ]
    }
   ],
   "source": [
    "def calc_H(y,t):\n",
    "    omega = omega_t(t)\n",
    "    H = 0.5*y[1]**2 + 0.5*omega**2*y[0]**2\n",
    "    return H\n",
    "\n",
    "def calc_W(t,res):\n",
    "    y0 = res[0]\n",
    "    y1 = res[-1]\n",
    "    W = calc_H(y1,t[-1]) - calc_H(y0,t[0])\n",
    "    return W\n",
    "\n",
    "W = calc_W(t,res)\n",
    "print(\"Work done\",W)"
   ]
  },
  {
   "cell_type": "code",
   "execution_count": 43,
   "metadata": {
    "collapsed": true
   },
   "outputs": [],
   "source": [
    "# wrapper above code to compute W with t_s being the only free parameter\n",
    "def calc_W(t_s):\n",
    "    beta = 1.0\n",
    "    omega_0 = 1.0\n",
    "    omega_1 = 1.5\n",
    "\n",
    "    # omega_t is switched as a linear function of time\n",
    "    def omega_t(t,omega_0 = omega_0,omega_1 = omega_1,t_s = t_s):\n",
    "        return omega_0 + (omega_1 - omega_0)*(t/t_s)\n",
    "\n",
    "    # y is defined as [x,p]\n",
    "    def dy_dt(y,t):\n",
    "        dx_dt = y[1]\n",
    "        dp_dt = -omega_t(t)**2 * y[0]\n",
    "        return np.array([dx_dt,dp_dt])\n",
    "\n",
    "    # the initial condition is sampled from a canonical distribution\n",
    "    def get_y0(omega_0=omega_0,beta=beta):\n",
    "        sigma_p = 1/np.sqrt(beta)\n",
    "        sigma_x = 1.0/(omega_0*np.sqrt(beta))\n",
    "        x = np.random.normal(scale=sigma_x)\n",
    "        p = np.random.normal(scale=sigma_p)\n",
    "        return np.array([x,p])\n",
    "\n",
    "    y0 = get_y0()\n",
    "    N_t = 100\n",
    "    t = np.linspace(0,t_s,N_t)\n",
    "    res = scipy.integrate.odeint(dy_dt,y0,t) \n",
    "    \n",
    "    def calc_H(y,t):\n",
    "        omega = omega_t(t)\n",
    "        H = 0.5*y[1]**2 + 0.5*omega**2*y[0]**2\n",
    "        return H\n",
    "\n",
    "    def calc_W(t,res):\n",
    "        y0 = res[0]\n",
    "        y1 = res[-1]\n",
    "        W = calc_H(y1,t[-1]) - calc_H(y0,t[0])\n",
    "        return W\n",
    "\n",
    "    W = calc_W(t,res)\n",
    "    return W"
   ]
  },
  {
   "cell_type": "code",
   "execution_count": 44,
   "metadata": {},
   "outputs": [],
   "source": [
    "def calc_avg(W_arr):\n",
    "    return np.average(W_arr)\n",
    "\n",
    "def calc_thermal_avg(w_arr,beta):\n",
    "    return -1.0/beta * np.log(np.average(np.exp(-beta*W_arr)))"
   ]
  },
  {
   "cell_type": "code",
   "execution_count": 54,
   "metadata": {},
   "outputs": [
    {
     "name": "stdout",
     "output_type": "stream",
     "text": [
      "Linearly Averaged work 0.497805212749\n",
      "Thermally averaged work 0.403777983904\n"
     ]
    }
   ],
   "source": [
    "# number of simulations\n",
    "N_sim = 10000\n",
    "t_s = 10\n",
    "W_arr = np.array([calc_W(t_s) for i in range(N_sim)])\n",
    "\n",
    "beta = 1.0\n",
    "W_a = calc_avg(W_arr)\n",
    "W_x = calc_thermal_avg(W_arr,beta)\n",
    "print(\"Linearly Averaged work\",W_a)\n",
    "print(\"Thermally averaged work\",W_x)"
   ]
  },
  {
   "cell_type": "code",
   "execution_count": 53,
   "metadata": {
    "collapsed": true
   },
   "outputs": [],
   "source": [
    "# wrapper around the ensemble average calculation\n",
    "def calc_a_x_work(t_s):\n",
    "    N_sim = 10000\n",
    "    W_arr = np.array([calc_W(t_s) for i in range(N_sim)])\n",
    "\n",
    "    beta = 1.0\n",
    "    W_a = calc_avg(W_arr)\n",
    "    W_x = calc_thermal_avg(W_arr,beta)\n",
    "    return np.array([W_a,W_x])"
   ]
  },
  {
   "cell_type": "code",
   "execution_count": 55,
   "metadata": {},
   "outputs": [],
   "source": [
    "# Now we trace over t_s values to see the effect of slowly varying the Hamiltonian\n",
    "t_s_vec = np.logspace(0,2,5)\n",
    "W_a_x_array = np.array([calc_a_x_work(t_s) for t_s in t_s_vec])"
   ]
  },
  {
   "cell_type": "code",
   "execution_count": 56,
   "metadata": {},
   "outputs": [
    {
     "data": {
      "text/plain": [
       "<matplotlib.text.Text at 0x10671e550>"
      ]
     },
     "execution_count": 56,
     "metadata": {},
     "output_type": "execute_result"
    },
    {
     "data": {
      "image/png": "[encoded data removed]",
      "text/plain": [
       "<matplotlib.figure.Figure at 0x1064fc0b8>"
      ]
     },
     "metadata": {},
     "output_type": "display_data"
    }
   ],
   "source": [
    "plt.plot(t_s_vec,W_a_x_array[:,0],label='W_a')\n",
    "plt.plot(t_s_vec,W_a_x_array[:,1],label='W_x')\n",
    "plt.legend(loc=\"best\")\n",
    "plt.xlabel(r\"$t_s$\",fontsize=16)"
   ]
  }
 ],
 "metadata": {
  "kernelspec": {
   "display_name": "Python 3",
   "language": "python",
   "name": "python3"
  },
  "language_info": {
   "codemirror_mode": {
    "name": "ipython",
    "version": 3
   },
   "file_extension": ".py",
   "mimetype": "text/x-python",
   "name": "python",
   "nbconvert_exporter": "python",
   "pygments_lexer": "ipython3",
   "version": "3.5.2"
  }
 },
 "nbformat": 4,
 "nbformat_minor": 2
}
